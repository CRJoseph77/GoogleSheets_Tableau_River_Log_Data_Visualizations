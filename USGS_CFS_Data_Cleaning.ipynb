{
 "cells": [
  {
   "cell_type": "code",
   "execution_count": 66,
   "id": "3039e254",
   "metadata": {},
   "outputs": [],
   "source": [
    "import pandas as pd\n",
    "import numpy as np\n",
    "\n",
    "import datetime as dt"
   ]
  },
  {
   "cell_type": "code",
   "execution_count": 67,
   "id": "8b263ee7",
   "metadata": {},
   "outputs": [],
   "source": [
    "CFS = pd.read_csv('USGS_CFS.tsv', sep = '\\t')"
   ]
  },
  {
   "cell_type": "code",
   "execution_count": 68,
   "id": "df37533f",
   "metadata": {
    "scrolled": true
   },
   "outputs": [
    {
     "data": {
      "text/html": [
       "<div>\n",
       "<style scoped>\n",
       "    .dataframe tbody tr th:only-of-type {\n",
       "        vertical-align: middle;\n",
       "    }\n",
       "\n",
       "    .dataframe tbody tr th {\n",
       "        vertical-align: top;\n",
       "    }\n",
       "\n",
       "    .dataframe thead th {\n",
       "        text-align: right;\n",
       "    }\n",
       "</style>\n",
       "<table border=\"1\" class=\"dataframe\">\n",
       "  <thead>\n",
       "    <tr style=\"text-align: right;\">\n",
       "      <th></th>\n",
       "      <th>agency_cd</th>\n",
       "      <th>site_no</th>\n",
       "      <th>datetime</th>\n",
       "      <th>tz_cd</th>\n",
       "      <th>211112_00060</th>\n",
       "      <th>211112_00060_cd</th>\n",
       "    </tr>\n",
       "  </thead>\n",
       "  <tbody>\n",
       "    <tr>\n",
       "      <th>0</th>\n",
       "      <td>5s</td>\n",
       "      <td>15s</td>\n",
       "      <td>20d</td>\n",
       "      <td>6s</td>\n",
       "      <td>14n</td>\n",
       "      <td>10s</td>\n",
       "    </tr>\n",
       "    <tr>\n",
       "      <th>1</th>\n",
       "      <td>USGS</td>\n",
       "      <td>07094500</td>\n",
       "      <td>2017-06-08 00:00</td>\n",
       "      <td>MDT</td>\n",
       "      <td>3300</td>\n",
       "      <td>A</td>\n",
       "    </tr>\n",
       "    <tr>\n",
       "      <th>2</th>\n",
       "      <td>USGS</td>\n",
       "      <td>07094500</td>\n",
       "      <td>2017-06-08 00:15</td>\n",
       "      <td>MDT</td>\n",
       "      <td>3300</td>\n",
       "      <td>A</td>\n",
       "    </tr>\n",
       "    <tr>\n",
       "      <th>3</th>\n",
       "      <td>USGS</td>\n",
       "      <td>07094500</td>\n",
       "      <td>2017-06-08 00:30</td>\n",
       "      <td>MDT</td>\n",
       "      <td>3300</td>\n",
       "      <td>A</td>\n",
       "    </tr>\n",
       "    <tr>\n",
       "      <th>4</th>\n",
       "      <td>USGS</td>\n",
       "      <td>07094500</td>\n",
       "      <td>2017-06-08 00:45</td>\n",
       "      <td>MDT</td>\n",
       "      <td>3300</td>\n",
       "      <td>A</td>\n",
       "    </tr>\n",
       "  </tbody>\n",
       "</table>\n",
       "</div>"
      ],
      "text/plain": [
       "  agency_cd   site_no          datetime tz_cd 211112_00060 211112_00060_cd\n",
       "0        5s       15s               20d    6s          14n             10s\n",
       "1      USGS  07094500  2017-06-08 00:00   MDT         3300               A\n",
       "2      USGS  07094500  2017-06-08 00:15   MDT         3300               A\n",
       "3      USGS  07094500  2017-06-08 00:30   MDT         3300               A\n",
       "4      USGS  07094500  2017-06-08 00:45   MDT         3300               A"
      ]
     },
     "execution_count": 68,
     "metadata": {},
     "output_type": "execute_result"
    }
   ],
   "source": [
    "CFS.head()"
   ]
  },
  {
   "cell_type": "code",
   "execution_count": 69,
   "id": "983d52f6",
   "metadata": {
    "scrolled": true
   },
   "outputs": [
    {
     "name": "stdout",
     "output_type": "stream",
     "text": [
      "<class 'pandas.core.frame.DataFrame'>\n",
      "RangeIndex: 96058 entries, 0 to 96057\n",
      "Data columns (total 6 columns):\n",
      " #   Column           Non-Null Count  Dtype \n",
      "---  ------           --------------  ----- \n",
      " 0   agency_cd        96058 non-null  object\n",
      " 1   site_no          96058 non-null  object\n",
      " 2   datetime         96058 non-null  object\n",
      " 3   tz_cd            96058 non-null  object\n",
      " 4   211112_00060     96058 non-null  object\n",
      " 5   211112_00060_cd  96058 non-null  object\n",
      "dtypes: object(6)\n",
      "memory usage: 4.4+ MB\n"
     ]
    }
   ],
   "source": [
    "CFS.info()"
   ]
  },
  {
   "cell_type": "code",
   "execution_count": 70,
   "id": "35146d85",
   "metadata": {},
   "outputs": [],
   "source": [
    "CFS = CFS.drop([0], axis = 0)"
   ]
  },
  {
   "cell_type": "code",
   "execution_count": 71,
   "id": "a64e4a5e",
   "metadata": {
    "scrolled": true
   },
   "outputs": [
    {
     "data": {
      "text/html": [
       "<div>\n",
       "<style scoped>\n",
       "    .dataframe tbody tr th:only-of-type {\n",
       "        vertical-align: middle;\n",
       "    }\n",
       "\n",
       "    .dataframe tbody tr th {\n",
       "        vertical-align: top;\n",
       "    }\n",
       "\n",
       "    .dataframe thead th {\n",
       "        text-align: right;\n",
       "    }\n",
       "</style>\n",
       "<table border=\"1\" class=\"dataframe\">\n",
       "  <thead>\n",
       "    <tr style=\"text-align: right;\">\n",
       "      <th></th>\n",
       "      <th>agency_cd</th>\n",
       "      <th>site_no</th>\n",
       "      <th>datetime</th>\n",
       "      <th>tz_cd</th>\n",
       "      <th>211112_00060</th>\n",
       "      <th>211112_00060_cd</th>\n",
       "    </tr>\n",
       "  </thead>\n",
       "  <tbody>\n",
       "    <tr>\n",
       "      <th>1</th>\n",
       "      <td>USGS</td>\n",
       "      <td>07094500</td>\n",
       "      <td>2017-06-08 00:00</td>\n",
       "      <td>MDT</td>\n",
       "      <td>3300</td>\n",
       "      <td>A</td>\n",
       "    </tr>\n",
       "    <tr>\n",
       "      <th>2</th>\n",
       "      <td>USGS</td>\n",
       "      <td>07094500</td>\n",
       "      <td>2017-06-08 00:15</td>\n",
       "      <td>MDT</td>\n",
       "      <td>3300</td>\n",
       "      <td>A</td>\n",
       "    </tr>\n",
       "    <tr>\n",
       "      <th>3</th>\n",
       "      <td>USGS</td>\n",
       "      <td>07094500</td>\n",
       "      <td>2017-06-08 00:30</td>\n",
       "      <td>MDT</td>\n",
       "      <td>3300</td>\n",
       "      <td>A</td>\n",
       "    </tr>\n",
       "    <tr>\n",
       "      <th>4</th>\n",
       "      <td>USGS</td>\n",
       "      <td>07094500</td>\n",
       "      <td>2017-06-08 00:45</td>\n",
       "      <td>MDT</td>\n",
       "      <td>3300</td>\n",
       "      <td>A</td>\n",
       "    </tr>\n",
       "    <tr>\n",
       "      <th>5</th>\n",
       "      <td>USGS</td>\n",
       "      <td>07094500</td>\n",
       "      <td>2017-06-08 01:00</td>\n",
       "      <td>MDT</td>\n",
       "      <td>3290</td>\n",
       "      <td>A</td>\n",
       "    </tr>\n",
       "    <tr>\n",
       "      <th>6</th>\n",
       "      <td>USGS</td>\n",
       "      <td>07094500</td>\n",
       "      <td>2017-06-08 01:15</td>\n",
       "      <td>MDT</td>\n",
       "      <td>3280</td>\n",
       "      <td>A</td>\n",
       "    </tr>\n",
       "    <tr>\n",
       "      <th>7</th>\n",
       "      <td>USGS</td>\n",
       "      <td>07094500</td>\n",
       "      <td>2017-06-08 01:30</td>\n",
       "      <td>MDT</td>\n",
       "      <td>3250</td>\n",
       "      <td>A</td>\n",
       "    </tr>\n",
       "    <tr>\n",
       "      <th>8</th>\n",
       "      <td>USGS</td>\n",
       "      <td>07094500</td>\n",
       "      <td>2017-06-08 01:45</td>\n",
       "      <td>MDT</td>\n",
       "      <td>3230</td>\n",
       "      <td>A</td>\n",
       "    </tr>\n",
       "    <tr>\n",
       "      <th>9</th>\n",
       "      <td>USGS</td>\n",
       "      <td>07094500</td>\n",
       "      <td>2017-06-08 02:00</td>\n",
       "      <td>MDT</td>\n",
       "      <td>3200</td>\n",
       "      <td>A</td>\n",
       "    </tr>\n",
       "    <tr>\n",
       "      <th>10</th>\n",
       "      <td>USGS</td>\n",
       "      <td>07094500</td>\n",
       "      <td>2017-06-08 02:15</td>\n",
       "      <td>MDT</td>\n",
       "      <td>3170</td>\n",
       "      <td>A</td>\n",
       "    </tr>\n",
       "  </tbody>\n",
       "</table>\n",
       "</div>"
      ],
      "text/plain": [
       "   agency_cd   site_no          datetime tz_cd 211112_00060 211112_00060_cd\n",
       "1       USGS  07094500  2017-06-08 00:00   MDT         3300               A\n",
       "2       USGS  07094500  2017-06-08 00:15   MDT         3300               A\n",
       "3       USGS  07094500  2017-06-08 00:30   MDT         3300               A\n",
       "4       USGS  07094500  2017-06-08 00:45   MDT         3300               A\n",
       "5       USGS  07094500  2017-06-08 01:00   MDT         3290               A\n",
       "6       USGS  07094500  2017-06-08 01:15   MDT         3280               A\n",
       "7       USGS  07094500  2017-06-08 01:30   MDT         3250               A\n",
       "8       USGS  07094500  2017-06-08 01:45   MDT         3230               A\n",
       "9       USGS  07094500  2017-06-08 02:00   MDT         3200               A\n",
       "10      USGS  07094500  2017-06-08 02:15   MDT         3170               A"
      ]
     },
     "execution_count": 71,
     "metadata": {},
     "output_type": "execute_result"
    }
   ],
   "source": [
    "CFS.head(10)"
   ]
  },
  {
   "cell_type": "code",
   "execution_count": 72,
   "id": "a665910c",
   "metadata": {},
   "outputs": [],
   "source": [
    "#Changing data types\n",
    "CFS['datetime'] = pd.to_datetime(CFS['datetime'])"
   ]
  },
  {
   "cell_type": "code",
   "execution_count": 73,
   "id": "2408d2b9",
   "metadata": {},
   "outputs": [],
   "source": [
    "CFS['year'] = CFS['datetime'].dt.year"
   ]
  },
  {
   "cell_type": "code",
   "execution_count": 74,
   "id": "a5f69733",
   "metadata": {},
   "outputs": [],
   "source": [
    "CFS['date'] = CFS['datetime'].dt.strftime('%m/%d/%Y')"
   ]
  },
  {
   "cell_type": "code",
   "execution_count": 85,
   "id": "529f8c55",
   "metadata": {},
   "outputs": [],
   "source": [
    "CFS['date'] = pd.to_datetime(CFS['date'])"
   ]
  },
  {
   "cell_type": "code",
   "execution_count": 86,
   "id": "53b5f41c",
   "metadata": {},
   "outputs": [],
   "source": [
    "CFS = CFS.rename(columns = {'211112_00060' : 'cfs'})"
   ]
  },
  {
   "cell_type": "code",
   "execution_count": 101,
   "id": "3be555f2",
   "metadata": {},
   "outputs": [],
   "source": [
    "CFS['cfs'] = CFS['cfs'].astype('int')"
   ]
  },
  {
   "cell_type": "code",
   "execution_count": 102,
   "id": "6d22fedd",
   "metadata": {
    "scrolled": false
   },
   "outputs": [
    {
     "name": "stdout",
     "output_type": "stream",
     "text": [
      "<class 'pandas.core.frame.DataFrame'>\n",
      "RangeIndex: 96057 entries, 1 to 96057\n",
      "Data columns (total 8 columns):\n",
      " #   Column           Non-Null Count  Dtype         \n",
      "---  ------           --------------  -----         \n",
      " 0   agency_cd        96057 non-null  object        \n",
      " 1   site_no          96057 non-null  object        \n",
      " 2   datetime         96057 non-null  datetime64[ns]\n",
      " 3   tz_cd            96057 non-null  object        \n",
      " 4   cfs              96057 non-null  int32         \n",
      " 5   211112_00060_cd  96057 non-null  object        \n",
      " 6   year             96057 non-null  int64         \n",
      " 7   date             96057 non-null  datetime64[ns]\n",
      "dtypes: datetime64[ns](2), int32(1), int64(1), object(4)\n",
      "memory usage: 5.5+ MB\n"
     ]
    }
   ],
   "source": [
    "CFS.info()"
   ]
  },
  {
   "cell_type": "code",
   "execution_count": 104,
   "id": "fca90eb4",
   "metadata": {},
   "outputs": [
    {
     "data": {
      "text/html": [
       "<div>\n",
       "<style scoped>\n",
       "    .dataframe tbody tr th:only-of-type {\n",
       "        vertical-align: middle;\n",
       "    }\n",
       "\n",
       "    .dataframe tbody tr th {\n",
       "        vertical-align: top;\n",
       "    }\n",
       "\n",
       "    .dataframe thead th {\n",
       "        text-align: right;\n",
       "    }\n",
       "</style>\n",
       "<table border=\"1\" class=\"dataframe\">\n",
       "  <thead>\n",
       "    <tr style=\"text-align: right;\">\n",
       "      <th></th>\n",
       "      <th>cfs</th>\n",
       "      <th>year</th>\n",
       "    </tr>\n",
       "  </thead>\n",
       "  <tbody>\n",
       "    <tr>\n",
       "      <th>count</th>\n",
       "      <td>96057.000000</td>\n",
       "      <td>96057.000000</td>\n",
       "    </tr>\n",
       "    <tr>\n",
       "      <th>mean</th>\n",
       "      <td>995.497934</td>\n",
       "      <td>2019.640214</td>\n",
       "    </tr>\n",
       "    <tr>\n",
       "      <th>std</th>\n",
       "      <td>892.815094</td>\n",
       "      <td>1.621549</td>\n",
       "    </tr>\n",
       "    <tr>\n",
       "      <th>min</th>\n",
       "      <td>203.000000</td>\n",
       "      <td>2017.000000</td>\n",
       "    </tr>\n",
       "    <tr>\n",
       "      <th>25%</th>\n",
       "      <td>401.000000</td>\n",
       "      <td>2018.000000</td>\n",
       "    </tr>\n",
       "    <tr>\n",
       "      <th>50%</th>\n",
       "      <td>764.000000</td>\n",
       "      <td>2020.000000</td>\n",
       "    </tr>\n",
       "    <tr>\n",
       "      <th>75%</th>\n",
       "      <td>1180.000000</td>\n",
       "      <td>2021.000000</td>\n",
       "    </tr>\n",
       "    <tr>\n",
       "      <th>max</th>\n",
       "      <td>5670.000000</td>\n",
       "      <td>2022.000000</td>\n",
       "    </tr>\n",
       "  </tbody>\n",
       "</table>\n",
       "</div>"
      ],
      "text/plain": [
       "                cfs          year\n",
       "count  96057.000000  96057.000000\n",
       "mean     995.497934   2019.640214\n",
       "std      892.815094      1.621549\n",
       "min      203.000000   2017.000000\n",
       "25%      401.000000   2018.000000\n",
       "50%      764.000000   2020.000000\n",
       "75%     1180.000000   2021.000000\n",
       "max     5670.000000   2022.000000"
      ]
     },
     "execution_count": 104,
     "metadata": {},
     "output_type": "execute_result"
    }
   ],
   "source": [
    "CFS.describe()"
   ]
  },
  {
   "cell_type": "code",
   "execution_count": 111,
   "id": "453f4d84",
   "metadata": {},
   "outputs": [],
   "source": [
    "CFS_day = CFS[['date', 'cfs']].groupby(['date']).mean().reset_index()"
   ]
  },
  {
   "cell_type": "code",
   "execution_count": 117,
   "id": "b13ca660",
   "metadata": {},
   "outputs": [
    {
     "data": {
      "text/html": [
       "<div>\n",
       "<style scoped>\n",
       "    .dataframe tbody tr th:only-of-type {\n",
       "        vertical-align: middle;\n",
       "    }\n",
       "\n",
       "    .dataframe tbody tr th {\n",
       "        vertical-align: top;\n",
       "    }\n",
       "\n",
       "    .dataframe thead th {\n",
       "        text-align: right;\n",
       "    }\n",
       "</style>\n",
       "<table border=\"1\" class=\"dataframe\">\n",
       "  <thead>\n",
       "    <tr style=\"text-align: right;\">\n",
       "      <th></th>\n",
       "      <th>date</th>\n",
       "      <th>cfs</th>\n",
       "    </tr>\n",
       "  </thead>\n",
       "  <tbody>\n",
       "    <tr>\n",
       "      <th>0</th>\n",
       "      <td>2017-06-08</td>\n",
       "      <td>3425.0</td>\n",
       "    </tr>\n",
       "    <tr>\n",
       "      <th>1</th>\n",
       "      <td>2017-06-09</td>\n",
       "      <td>3645.0</td>\n",
       "    </tr>\n",
       "    <tr>\n",
       "      <th>2</th>\n",
       "      <td>2017-06-10</td>\n",
       "      <td>3711.0</td>\n",
       "    </tr>\n",
       "    <tr>\n",
       "      <th>3</th>\n",
       "      <td>2017-06-11</td>\n",
       "      <td>3769.0</td>\n",
       "    </tr>\n",
       "    <tr>\n",
       "      <th>4</th>\n",
       "      <td>2017-06-12</td>\n",
       "      <td>3709.0</td>\n",
       "    </tr>\n",
       "  </tbody>\n",
       "</table>\n",
       "</div>"
      ],
      "text/plain": [
       "        date     cfs\n",
       "0 2017-06-08  3425.0\n",
       "1 2017-06-09  3645.0\n",
       "2 2017-06-10  3711.0\n",
       "3 2017-06-11  3769.0\n",
       "4 2017-06-12  3709.0"
      ]
     },
     "execution_count": 117,
     "metadata": {},
     "output_type": "execute_result"
    }
   ],
   "source": [
    "CFS_day.head()"
   ]
  },
  {
   "cell_type": "code",
   "execution_count": 116,
   "id": "2530f732",
   "metadata": {},
   "outputs": [],
   "source": [
    "CFS_day['cfs'] = CFS_day['cfs'].round(0)"
   ]
  },
  {
   "cell_type": "code",
   "execution_count": 120,
   "id": "30aecdc7",
   "metadata": {},
   "outputs": [],
   "source": [
    "CFS_day.to_csv('CFS_by_day.csv', index = 0)"
   ]
  }
 ],
 "metadata": {
  "kernelspec": {
   "display_name": "Python 3 (ipykernel)",
   "language": "python",
   "name": "python3"
  },
  "language_info": {
   "codemirror_mode": {
    "name": "ipython",
    "version": 3
   },
   "file_extension": ".py",
   "mimetype": "text/x-python",
   "name": "python",
   "nbconvert_exporter": "python",
   "pygments_lexer": "ipython3",
   "version": "3.11.4"
  }
 },
 "nbformat": 4,
 "nbformat_minor": 5
}
